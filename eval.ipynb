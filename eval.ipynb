{
 "cells": [
  {
   "cell_type": "code",
   "execution_count": 2,
   "metadata": {},
   "outputs": [],
   "source": [
    "import os, torch\n",
    "from eval import det_dict, desp_dict"
   ]
  },
  {
   "cell_type": "code",
   "execution_count": null,
   "metadata": {},
   "outputs": [
    {
     "name": "stderr",
     "output_type": "stream",
     "text": [
      "  0%|          | 31/199111 [00:19<5:08:58, 10.74it/s]"
     ]
    }
   ],
   "source": [
    "from utils.evaluator import Evaluator\n",
    "from utils.class_related import Matcher\n",
    "from utils.utils import getConfig\n",
    "%load_ext autoreload\n",
    "%autoreload 2\n",
    "%reload_ext autoreload\n",
    "\n",
    "data_root = 'data'\n",
    "pair_file = os.path.join(data_root, 'pairs_meta/cross_dataset.txt')\n",
    "save_path = './results'\n",
    "descriptor_name = 'SOSNet'\n",
    "detector_name = 'RidgeDet'\n",
    "\n",
    "log_suffix = os.path.basename(pair_file).replace('.txt', '')\n",
    "log_name = f'{descriptor_name}-{log_suffix}.txt'\n",
    "device = torch.device('cuda' if torch.cuda.is_available else 'cpu')\n",
    "detector = det_dict(detector_name)\n",
    "descriptor = desp_dict(descriptor_name)\n",
    "matcher = Matcher(dist_thresh=descriptor.dist_thresh)\n",
    "\n",
    "evaluator = Evaluator(descriptor, matcher, data_root, device, pair_file, detector)\n",
    "evaluator.data_config = getConfig(os.path.join(data_root, 'config.yaml'))\n",
    "\n",
    "log_file = f'{save_path}/{log_name}.txt'\n",
    "evaluator(save_path=save_path, log_file=log_file)"
   ]
  },
  {
   "cell_type": "code",
   "execution_count": null,
   "metadata": {},
   "outputs": [],
   "source": []
  }
 ],
 "metadata": {
  "kernelspec": {
   "display_name": "Python 3",
   "language": "python",
   "name": "python3"
  },
  "language_info": {
   "codemirror_mode": {
    "name": "ipython",
    "version": 3
   },
   "file_extension": ".py",
   "mimetype": "text/x-python",
   "name": "python",
   "nbconvert_exporter": "python",
   "pygments_lexer": "ipython3",
   "version": "3.7.4"
  }
 },
 "nbformat": 4,
 "nbformat_minor": 4
}
