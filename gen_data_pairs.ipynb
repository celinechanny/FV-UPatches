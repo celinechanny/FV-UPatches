{
 "cells": [
  {
   "cell_type": "markdown",
   "metadata": {},
   "source": [
    "## Generate **intra**-dataset pairs"
   ]
  },
  {
   "cell_type": "code",
   "execution_count": 5,
   "metadata": {},
   "outputs": [],
   "source": [
    "import random\n",
    "from tqdm import tqdm\n",
    "\n",
    "flag = '_flag_'\n",
    "def gen_pairs(config_file, data_path):\n",
    "    db = data_path.split('/')[-1]\n",
    "    thi_files = os.path.join(data_path, 'thi')\n",
    "    names = os.listdir(thi_files)\n",
    "    d = getConfig(config_file)[db]\n",
    "    prefix_num, postfix, split, trim, session = d.values()\n",
    "    select_rate = 0.5\n",
    "    total_len = 0\n",
    "    genuine = []; imposter = []; imposter_FVC = []\n",
    "    testi = 0; testj = 0\n",
    "    for step, i in enumerate(tqdm(names[:-1])):\n",
    "        if not i.endswith(postfix):\n",
    "            continue\n",
    "        name1 = i.replace(postfix, '')\n",
    "        cur = 0\n",
    "    #     select1 = np.random.choice(range(1, 7))\n",
    "    #     select2 = np.random.choice(range(1, 7))\n",
    "        for ind, j in enumerate(names[step+1:]):\n",
    "            cur += 1\n",
    "            if not j.endswith(postfix):\n",
    "                continue\n",
    "\n",
    "            name2 = j.replace(postfix, '')\n",
    "            if db == 'MMCBNU':\n",
    "                # FIX: 54_2_2 and 54_2_3 in MMCBNU are actually from the same class(genuine matches).\n",
    "                testi = '_'.join(name1.split('_')[:3]) == '054_2_2'\n",
    "                testj = '_'.join(name2.split('_')[:3]) == '054_2_3'\n",
    "            \n",
    "            tmp = db + '/' + name1 + flag + db + '/' + name2 + flag\n",
    "            judge = judge_prefix(name1, name2, prefix_num, split)\n",
    "            if judge or (testi and testj):\n",
    "                genuine.append(tmp+'1')\n",
    "            else:\n",
    "                imposter.append(tmp+'0')\n",
    "                if not judge_not_FVC(session, prefix_num, name1, name2, step=step):\n",
    "                    imposter_FVC.append(tmp+'0')\n",
    "            total_len += 1\n",
    "\n",
    "    print('totle_len:', total_len, '; genuine:', len(genuine), ':imposter:', len(imposter))\n",
    "    return total_len, genuine, imposter, imposter_FVC"
   ]
  },
  {
   "cell_type": "code",
   "execution_count": 1,
   "metadata": {},
   "outputs": [
    {
     "name": "stderr",
     "output_type": "stream",
     "text": [
      "100%|██████████| 5904/5904 [01:13<00:00, 80.61it/s] \n",
      "100%|██████████| 32472/32472 [00:00<00:00, 565885.99it/s]\n"
     ]
    },
    {
     "name": "stdout",
     "output_type": "stream",
     "text": [
      "totle_len: 17425656 ; genuine: 32472 :imposter: 17393184\n"
     ]
    },
    {
     "name": "stderr",
     "output_type": "stream",
     "text": [
      "100%|██████████| 120786/120786 [00:00<00:00, 1136877.78it/s]\n"
     ]
    },
    {
     "name": "stdout",
     "output_type": "stream",
     "text": [
      "FVUSM-FVC total: 153258; genuine: 32472; imposter: 120786\n"
     ]
    },
    {
     "name": "stderr",
     "output_type": "stream",
     "text": [
      "100%|██████████| 17393184/17393184 [00:11<00:00, 1484412.25it/s]\n"
     ]
    },
    {
     "name": "stdout",
     "output_type": "stream",
     "text": [
      "FVUSM-full total: 17425656; genuine: 32472; imposter: 17393184\n",
      "FVUSM-short total: 357192; genuine: 32472; imposter: 324720\n"
     ]
    }
   ],
   "source": [
    "from utils.utils import *\n",
    "# names = sorted(names, key=lambda i:str(i.split('.')[0]))\n",
    "\n",
    "data_path = 'data/FVUSM'\n",
    "config_file = 'data/config.yaml'\n",
    "save_dir = 'data/pairs'\n",
    "os.makedirs(save_dir, exist_ok=True)\n",
    "# modes = ['full', 'short', 'FVC']\n",
    "db = data_path.split('/')[-1]\n",
    "total_len, genuine, imposter, imposter_FVC = gen_pairs(config_file, data_path)\n",
    "\n",
    "classes = {}\n",
    "res = []\n",
    "# pick up all genuine matching\n",
    "for ii in tqdm(genuine):\n",
    "    res.append(ii)\n",
    "gs = len(res)\n",
    "res_full = res.copy()\n",
    "res_FVC = res.copy()\n",
    "res_short = res.copy()\n",
    "random.shuffle(imposter)\n",
    "ims = 0\n",
    "\n",
    "mode = 'FVC'\n",
    "res = res_FVC\n",
    "for ii in tqdm(imposter_FVC):\n",
    "    res_FVC.append(ii)\n",
    "ims = len(res) - gs\n",
    "print(db+'-'+mode, f'total: {len(res)}; genuine: {gs}; imposter: {ims}')\n",
    "random.shuffle(res)\n",
    "s = '\\n'.join(res)\n",
    "f_new = open(save_dir+'/'+db+'-'+mode+'.txt', 'w')\n",
    "f_new.write(s)\n",
    "f_new.close()\n",
    "\n",
    "mode = 'full'\n",
    "res = res_full\n",
    "for ii in tqdm(imposter):\n",
    "    res.append(ii)\n",
    "ims = len(res) - gs\n",
    "print(db+'-'+mode, f'total: {len(res)}; genuine: {gs}; imposter: {ims}')\n",
    "random.shuffle(res)\n",
    "s = '\\n'.join(res)\n",
    "f_new = open(save_dir+'/'+db+'-'+mode+'.txt', 'w')\n",
    "f_new.write(s)\n",
    "f_new.close()\n",
    "\n",
    "mode = 'short'\n",
    "res = res_short\n",
    "ims = 0\n",
    "while ims < 10*gs:\n",
    "    res.append(imposter[ims])\n",
    "    ims += 1\n",
    "print(db+'-'+mode, f'total: {len(res)}; genuine: {gs}; imposter: {ims}')\n",
    "res = res_short\n",
    "random.shuffle(res)\n",
    "s = '\\n'.join(res)\n",
    "f_new = open(save_dir+'/'+db+'-'+mode+'.txt', 'w')\n",
    "f_new.write(s)\n",
    "f_new.close()"
   ]
  },
  {
   "cell_type": "markdown",
   "metadata": {},
   "source": [
    "## Generate cross/**inter**-dataset pairs"
   ]
  },
  {
   "cell_type": "code",
   "execution_count": 4,
   "metadata": {},
   "outputs": [
    {
     "name": "stderr",
     "output_type": "stream",
     "text": [
      "100%|██████████| 3131/3131 [00:21<00:00, 145.57it/s]\n",
      "  1%|▏         | 18/1440 [00:00<00:08, 171.46it/s]"
     ]
    },
    {
     "name": "stdout",
     "output_type": "stream",
     "text": [
      "totle_len: 4903146 ; genuine: 15390 :imposter: 4887756\n",
      "HKPU 312\n"
     ]
    },
    {
     "name": "stderr",
     "output_type": "stream",
     "text": [
      "100%|██████████| 1440/1440 [00:04<00:00, 342.50it/s]\n",
      "  0%|          | 4/5999 [00:00<03:08, 31.81it/s]"
     ]
    },
    {
     "name": "stdout",
     "output_type": "stream",
     "text": [
      "totle_len: 1036080 ; genuine: 2160 :imposter: 1033920\n",
      "UTFVP 360\n"
     ]
    },
    {
     "name": "stderr",
     "output_type": "stream",
     "text": [
      "100%|██████████| 5999/5999 [01:37<00:00, 61.24it/s] \n",
      "  0%|          | 7/3815 [00:00<00:57, 65.84it/s]"
     ]
    },
    {
     "name": "stdout",
     "output_type": "stream",
     "text": [
      "totle_len: 17997000 ; genuine: 27050 :imposter: 17969950\n",
      "MMCBNU 600\n"
     ]
    },
    {
     "name": "stderr",
     "output_type": "stream",
     "text": [
      "100%|██████████| 3815/3815 [00:31<00:00, 119.50it/s]\n",
      "  0%|          | 5/5904 [00:00<02:14, 43.90it/s]"
     ]
    },
    {
     "name": "stdout",
     "output_type": "stream",
     "text": [
      "totle_len: 7279020 ; genuine: 9540 :imposter: 7269480\n",
      "SDUMLA 636\n"
     ]
    },
    {
     "name": "stderr",
     "output_type": "stream",
     "text": [
      "100%|██████████| 5904/5904 [01:13<00:00, 80.64it/s] \n"
     ]
    },
    {
     "name": "stdout",
     "output_type": "stream",
     "text": [
      "totle_len: 17425656 ; genuine: 32472 :imposter: 17393184\n",
      "FVUSM 492\n"
     ]
    }
   ],
   "source": [
    "from utils.utils import *\n",
    "import os\n",
    "\n",
    "data_root = 'data'\n",
    "config_file = os.path.join(data_root, 'config.yaml')\n",
    "cfg = getConfig(config_file)\n",
    "database = ['HKPU', 'UTFVP', 'MMCBNU', 'SDUMLA', 'FVUSM']\n",
    "\n",
    "# generate genuine matches\n",
    "all_genuines = []\n",
    "for db in database:\n",
    "    data_path = os.path.join(data_root, db)\n",
    "    _, genuine, _, _ = gen_pairs(config_file, data_path)\n",
    "    all_genuines += genuine\n",
    "# for i in range()"
   ]
  },
  {
   "cell_type": "code",
   "execution_count": 31,
   "metadata": {},
   "outputs": [
    {
     "name": "stdout",
     "output_type": "stream",
     "text": [
      "MMCBNU 150\n",
      "HKPU 150\n",
      "UTFVP 150\n",
      "SDUMLA 150\n",
      "FVUSM 150\n"
     ]
    }
   ],
   "source": [
    "# collect 1st sample of every class in each dataset\n",
    "random_sample = 150\n",
    "database = ['MMCBNU', 'HKPU', 'UTFVP', 'SDUMLA', 'FVUSM']\n",
    "class_1st_samples = []\n",
    "for db in database:\n",
    "    data_path = os.path.join(data_root, db)\n",
    "    samples = []\n",
    "    prefix_num, postfix, split, trim, session = cfg[db].values()\n",
    "    all_files = os.listdir(os.path.join(data_path, 'roi'))\n",
    "    random.shuffle(all_files)\n",
    "    for file in all_files:\n",
    "        if len(samples) >= random_sample:\n",
    "            break\n",
    "        if judge_class_1st(session, file.replace(postfix, ''), prefix_num):\n",
    "            samples.append(db+'/'+file)\n",
    "    class_1st_samples.append(samples)\n",
    "    print(db, len(samples))"
   ]
  },
  {
   "cell_type": "code",
   "execution_count": 32,
   "metadata": {},
   "outputs": [
    {
     "name": "stdout",
     "output_type": "stream",
     "text": [
      "112500\n"
     ]
    }
   ],
   "source": [
    "random.shuffle(class_1st_samples)\n",
    "\n",
    "sample_imposters = []\n",
    "for ind, db_samples in enumerate(class_1st_samples):\n",
    "    db1 = db_samples\n",
    "    db2 = class_1st_samples[(ind+1) % len(class_1st_samples)]\n",
    "    for i in db1:\n",
    "        for j in db2:\n",
    "            sample_imposters.append(i.replace('.bmp', '')+flag+j.replace('.bmp', '')+flag+'0')\n",
    "print(len(sample_imposters))"
   ]
  },
  {
   "cell_type": "code",
   "execution_count": 33,
   "metadata": {},
   "outputs": [
    {
     "name": "stdout",
     "output_type": "stream",
     "text": [
      "genuines:  86612\n",
      "imposters:  112500\n",
      "199112\n"
     ]
    }
   ],
   "source": [
    "with open('data/pairs_meta/cross_dataset.txt', 'w') as f:\n",
    "    f.write('\\n'.join(sample_imposters))\n",
    "    f.write('\\n'.join(all_genuines))\n",
    "    print('genuines: ', len(all_genuines))\n",
    "    print('imposters: ', len(sample_imposters))\n",
    "    print(len(all_genuines)+len(sample_imposters))"
   ]
  },
  {
   "cell_type": "code",
   "execution_count": null,
   "metadata": {},
   "outputs": [],
   "source": []
  }
 ],
 "metadata": {
  "kernelspec": {
   "display_name": "Python 3",
   "language": "python",
   "name": "python3"
  },
  "language_info": {
   "codemirror_mode": {
    "name": "ipython",
    "version": 3
   },
   "file_extension": ".py",
   "mimetype": "text/x-python",
   "name": "python",
   "nbconvert_exporter": "python",
   "pygments_lexer": "ipython3",
   "version": "3.7.4"
  }
 },
 "nbformat": 4,
 "nbformat_minor": 4
}
